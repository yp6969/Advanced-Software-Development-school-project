{
  "nbformat": 4,
  "nbformat_minor": 0,
  "metadata": {
    "colab": {
      "name": "Untitled0.ipynb",
      "provenance": [],
      "authorship_tag": "ABX9TyOQIDaJCGDZEsXZcYL7wK19",
      "include_colab_link": true
    },
    "kernelspec": {
      "name": "python3",
      "display_name": "Python 3"
    },
    "language_info": {
      "name": "python"
    }
  },
  "cells": [
    {
      "cell_type": "markdown",
      "metadata": {
        "id": "view-in-github",
        "colab_type": "text"
      },
      "source": [
        "<a href=\"https://colab.research.google.com/github/yp6969/Advanced-Software-Development-school-project/blob/main/nadav_parse.ipynb\" target=\"_parent\"><img src=\"https://colab.research.google.com/assets/colab-badge.svg\" alt=\"Open In Colab\"/></a>"
      ]
    },
    {
      "cell_type": "code",
      "execution_count": 3,
      "metadata": {
        "colab": {
          "base_uri": "https://localhost:8080/"
        },
        "id": "gUUdbWEjbyZ6",
        "outputId": "d133e5ba-8b89-495e-e595-181fd1edb34b"
      },
      "outputs": [
        {
          "output_type": "stream",
          "name": "stdout",
          "text": [
            "Series_1_2\n",
            "Sweep #,       Max[A],     Ampl2[V],    C-slow[F], R-series[Ohm]\n",
            "      1,  -2.1000E-10,  -1.0000E-01,   8.0585E-12,   3.0022E+07\n",
            "      2,  -2.0922E-10,  -9.0000E-02,   8.0585E-12,   3.0022E+07\n",
            "      3,  -1.9060E-10,  -8.0000E-02,   8.0585E-12,   3.0022E+07\n",
            "      4,  -1.6853E-10,  -7.0000E-02,   8.0585E-12,   3.0022E+07\n",
            "      5,  -1.5007E-10,  -6.0000E-02,   8.0585E-12,   3.0022E+07\n",
            "      6,  -1.2159E-10,  -5.0000E-02,   8.0585E-12,   3.0022E+07\n",
            "      7,  -1.0125E-10,  -4.0000E-02,   8.0585E-12,   3.0022E+07\n",
            "      8,  -6.7601E-11,  -3.0000E-02,   8.0585E-12,   3.0022E+07\n",
            "      9,  -2.5037E-11,  -2.0000E-02,   8.0585E-12,   3.0022E+07\n",
            "     10,   2.3942E-11,  -1.0000E-02,   8.0585E-12,   3.0022E+07\n",
            "     11,   9.5142E-11,   0.0000E+00,   8.0585E-12,   3.0022E+07\n",
            "     12,   1.7745E-10,   1.0000E-02,   8.0585E-12,   3.0022E+07\n",
            "     13,   2.5945E-10,   2.0000E-02,   8.0585E-12,   3.0022E+07\n",
            "     14,   4.1938E-10,   3.0000E-02,   8.0585E-12,   3.0022E+07\n",
            "     15,   6.0325E-10,   4.0000E-02,   8.0585E-12,   3.0022E+07\n",
            "     16,   8.5127E-10,   5.0000E-02,   8.0585E-12,   3.0022E+07\n",
            "     17,   1.1553E-09,   6.0000E-02,   8.0585E-12,   3.0022E+07\n",
            "\n",
            "\n",
            " x =  <re.Match object; span=(87, 97), match='2.1000E-10'>\n",
            " y =  ['2.1000E-10', '1.0000E-01', '8.0585E-12', '3.0022E+07', '2.0922E-10', '9.0000E-02', '8.0585E-12', '3.0022E+07', '1.9060E-10', '8.0000E-02', '8.0585E-12', '3.0022E+07', '1.6853E-10', '7.0000E-02', '8.0585E-12', '3.0022E+07', '1.5007E-10', '6.0000E-02', '8.0585E-12', '3.0022E+07', '1.2159E-10', '5.0000E-02', '8.0585E-12', '3.0022E+07', '1.0125E-10', '4.0000E-02', '8.0585E-12', '3.0022E+07', '6.7601E-11', '3.0000E-02', '8.0585E-12', '3.0022E+07', '2.5037E-11', '2.0000E-02', '8.0585E-12', '3.0022E+07', '2.3942E-11', '1.0000E-02', '8.0585E-12', '3.0022E+07', '9.5142E-11', '0.0000E+00', '8.0585E-12', '3.0022E+07', '1.7745E-10', '1.0000E-02', '8.0585E-12', '3.0022E+07', '2.5945E-10', '2.0000E-02', '8.0585E-12', '3.0022E+07', '4.1938E-10', '3.0000E-02', '8.0585E-12', '3.0022E+07', '6.0325E-10', '4.0000E-02', '8.0585E-12', '3.0022E+07', '8.5127E-10', '5.0000E-02', '8.0585E-12', '3.0022E+07', '1.1553E-09', '6.0000E-02', '8.0585E-12', '3.0022E+07']\n"
          ]
        }
      ],
      "source": [
        "import numpy as np\n",
        "import re\n",
        "# ascii_grid = np.loadtxt(\"control.asc\", skiprows=6)\n",
        "output = \"\"\n",
        "with open(\"control.asc\", 'r') as f:\n",
        "  output = f.read()\n",
        "  print(output)\n"
      ]
    },
    {
      "cell_type": "code",
      "source": [
        "\n",
        "x = re.search(\"[0-9]+.[0-9]+E[-+][0-9][0-9]\", output) \n",
        "y = re.findall(\"[0-9]+.[0-9]+E[-+][0-9][0-9]\", output) \n",
        "\n",
        "\n",
        "print(\" x = \", x)\n",
        "print(\" y = \", y)"
      ],
      "metadata": {
        "colab": {
          "base_uri": "https://localhost:8080/"
        },
        "id": "O5Qb_In8lvqK",
        "outputId": "3f259105-ba97-405a-bfc1-08b904ec9d83"
      },
      "execution_count": 12,
      "outputs": [
        {
          "output_type": "stream",
          "name": "stdout",
          "text": [
            " x =  <re.Match object; span=(87, 97), match='2.1000E-10'>\n",
            " y =  ['2.1000E-10', '1.0000E-01', '8.0585E-12', '3.0022E+07', '2.0922E-10', '9.0000E-02', '8.0585E-12', '3.0022E+07', '1.9060E-10', '8.0000E-02', '8.0585E-12', '3.0022E+07', '1.6853E-10', '7.0000E-02', '8.0585E-12', '3.0022E+07', '1.5007E-10', '6.0000E-02', '8.0585E-12', '3.0022E+07', '1.2159E-10', '5.0000E-02', '8.0585E-12', '3.0022E+07', '1.0125E-10', '4.0000E-02', '8.0585E-12', '3.0022E+07', '6.7601E-11', '3.0000E-02', '8.0585E-12', '3.0022E+07', '2.5037E-11', '2.0000E-02', '8.0585E-12', '3.0022E+07', '2.3942E-11', '1.0000E-02', '8.0585E-12', '3.0022E+07', '9.5142E-11', '0.0000E+00', '8.0585E-12', '3.0022E+07', '1.7745E-10', '1.0000E-02', '8.0585E-12', '3.0022E+07', '2.5945E-10', '2.0000E-02', '8.0585E-12', '3.0022E+07', '4.1938E-10', '3.0000E-02', '8.0585E-12', '3.0022E+07', '6.0325E-10', '4.0000E-02', '8.0585E-12', '3.0022E+07', '8.5127E-10', '5.0000E-02', '8.0585E-12', '3.0022E+07', '1.1553E-09', '6.0000E-02', '8.0585E-12', '3.0022E+07']\n"
          ]
        }
      ]
    },
    {
      "cell_type": "code",
      "source": [
        "len(y)"
      ],
      "metadata": {
        "colab": {
          "base_uri": "https://localhost:8080/"
        },
        "id": "4JZ7_rAudHVt",
        "outputId": "7569810e-c8c1-4563-fa4d-0cfbe2cf49a8"
      },
      "execution_count": 13,
      "outputs": [
        {
          "output_type": "execute_result",
          "data": {
            "text/plain": [
              "68"
            ]
          },
          "metadata": {},
          "execution_count": 13
        }
      ]
    },
    {
      "cell_type": "code",
      "source": [
        "y = y[::4]\n",
        "y\n",
        "# y = np.array(y)\n"
      ],
      "metadata": {
        "colab": {
          "base_uri": "https://localhost:8080/"
        },
        "id": "PEHv-rgZiVzU",
        "outputId": "3191ed04-6cac-43a1-9869-1bf92dab755c"
      },
      "execution_count": 14,
      "outputs": [
        {
          "output_type": "execute_result",
          "data": {
            "text/plain": [
              "['2.1000E-10',\n",
              " '2.0922E-10',\n",
              " '1.9060E-10',\n",
              " '1.6853E-10',\n",
              " '1.5007E-10',\n",
              " '1.2159E-10',\n",
              " '1.0125E-10',\n",
              " '6.7601E-11',\n",
              " '2.5037E-11',\n",
              " '2.3942E-11',\n",
              " '9.5142E-11',\n",
              " '1.7745E-10',\n",
              " '2.5945E-10',\n",
              " '4.1938E-10',\n",
              " '6.0325E-10',\n",
              " '8.5127E-10',\n",
              " '1.1553E-09']"
            ]
          },
          "metadata": {},
          "execution_count": 14
        }
      ]
    },
    {
      "cell_type": "code",
      "source": [
        "z = [a*10**12 for a in y]"
      ],
      "metadata": {
        "colab": {
          "base_uri": "https://localhost:8080/",
          "height": 176
        },
        "id": "BwNV3xzmkhiD",
        "outputId": "f668160b-ba1e-44a0-ca14-5f992cd0f8eb"
      },
      "execution_count": 1,
      "outputs": [
        {
          "output_type": "error",
          "ename": "NameError",
          "evalue": "ignored",
          "traceback": [
            "\u001b[0;31m---------------------------------------------------------------------------\u001b[0m",
            "\u001b[0;31mNameError\u001b[0m                                 Traceback (most recent call last)",
            "\u001b[0;32m<ipython-input-1-38792826b561>\u001b[0m in \u001b[0;36m<module>\u001b[0;34m()\u001b[0m\n\u001b[0;32m----> 1\u001b[0;31m \u001b[0mz\u001b[0m \u001b[0;34m=\u001b[0m \u001b[0;34m[\u001b[0m\u001b[0ma\u001b[0m\u001b[0;34m*\u001b[0m\u001b[0;36m10\u001b[0m\u001b[0;34m**\u001b[0m\u001b[0;36m12\u001b[0m \u001b[0;32mfor\u001b[0m \u001b[0ma\u001b[0m \u001b[0;32min\u001b[0m \u001b[0my\u001b[0m\u001b[0;34m]\u001b[0m\u001b[0;34m\u001b[0m\u001b[0;34m\u001b[0m\u001b[0m\n\u001b[0m",
            "\u001b[0;31mNameError\u001b[0m: name 'y' is not defined"
          ]
        }
      ]
    },
    {
      "cell_type": "code",
      "source": [
        "import pandas as pd\n"
      ],
      "metadata": {
        "id": "mPfJ9b_ijQmY"
      },
      "execution_count": null,
      "outputs": []
    },
    {
      "cell_type": "code",
      "source": [
        "df = pd.DataFrame(y)"
      ],
      "metadata": {
        "id": "-ai4PmQhkD9K"
      },
      "execution_count": 18,
      "outputs": []
    },
    {
      "cell_type": "code",
      "source": [
        "df"
      ],
      "metadata": {
        "colab": {
          "base_uri": "https://localhost:8080/",
          "height": 582
        },
        "id": "IULmwBgdkMW5",
        "outputId": "628faab9-452d-4f3d-aa89-0ad9fa5dcf13"
      },
      "execution_count": 19,
      "outputs": [
        {
          "output_type": "execute_result",
          "data": {
            "text/html": [
              "\n",
              "  <div id=\"df-0ccdf195-5b6f-4b93-aac9-92ec771173b3\">\n",
              "    <div class=\"colab-df-container\">\n",
              "      <div>\n",
              "<style scoped>\n",
              "    .dataframe tbody tr th:only-of-type {\n",
              "        vertical-align: middle;\n",
              "    }\n",
              "\n",
              "    .dataframe tbody tr th {\n",
              "        vertical-align: top;\n",
              "    }\n",
              "\n",
              "    .dataframe thead th {\n",
              "        text-align: right;\n",
              "    }\n",
              "</style>\n",
              "<table border=\"1\" class=\"dataframe\">\n",
              "  <thead>\n",
              "    <tr style=\"text-align: right;\">\n",
              "      <th></th>\n",
              "      <th>0</th>\n",
              "    </tr>\n",
              "  </thead>\n",
              "  <tbody>\n",
              "    <tr>\n",
              "      <th>0</th>\n",
              "      <td>2.1000E-10</td>\n",
              "    </tr>\n",
              "    <tr>\n",
              "      <th>1</th>\n",
              "      <td>2.0922E-10</td>\n",
              "    </tr>\n",
              "    <tr>\n",
              "      <th>2</th>\n",
              "      <td>1.9060E-10</td>\n",
              "    </tr>\n",
              "    <tr>\n",
              "      <th>3</th>\n",
              "      <td>1.6853E-10</td>\n",
              "    </tr>\n",
              "    <tr>\n",
              "      <th>4</th>\n",
              "      <td>1.5007E-10</td>\n",
              "    </tr>\n",
              "    <tr>\n",
              "      <th>5</th>\n",
              "      <td>1.2159E-10</td>\n",
              "    </tr>\n",
              "    <tr>\n",
              "      <th>6</th>\n",
              "      <td>1.0125E-10</td>\n",
              "    </tr>\n",
              "    <tr>\n",
              "      <th>7</th>\n",
              "      <td>6.7601E-11</td>\n",
              "    </tr>\n",
              "    <tr>\n",
              "      <th>8</th>\n",
              "      <td>2.5037E-11</td>\n",
              "    </tr>\n",
              "    <tr>\n",
              "      <th>9</th>\n",
              "      <td>2.3942E-11</td>\n",
              "    </tr>\n",
              "    <tr>\n",
              "      <th>10</th>\n",
              "      <td>9.5142E-11</td>\n",
              "    </tr>\n",
              "    <tr>\n",
              "      <th>11</th>\n",
              "      <td>1.7745E-10</td>\n",
              "    </tr>\n",
              "    <tr>\n",
              "      <th>12</th>\n",
              "      <td>2.5945E-10</td>\n",
              "    </tr>\n",
              "    <tr>\n",
              "      <th>13</th>\n",
              "      <td>4.1938E-10</td>\n",
              "    </tr>\n",
              "    <tr>\n",
              "      <th>14</th>\n",
              "      <td>6.0325E-10</td>\n",
              "    </tr>\n",
              "    <tr>\n",
              "      <th>15</th>\n",
              "      <td>8.5127E-10</td>\n",
              "    </tr>\n",
              "    <tr>\n",
              "      <th>16</th>\n",
              "      <td>1.1553E-09</td>\n",
              "    </tr>\n",
              "  </tbody>\n",
              "</table>\n",
              "</div>\n",
              "      <button class=\"colab-df-convert\" onclick=\"convertToInteractive('df-0ccdf195-5b6f-4b93-aac9-92ec771173b3')\"\n",
              "              title=\"Convert this dataframe to an interactive table.\"\n",
              "              style=\"display:none;\">\n",
              "        \n",
              "  <svg xmlns=\"http://www.w3.org/2000/svg\" height=\"24px\"viewBox=\"0 0 24 24\"\n",
              "       width=\"24px\">\n",
              "    <path d=\"M0 0h24v24H0V0z\" fill=\"none\"/>\n",
              "    <path d=\"M18.56 5.44l.94 2.06.94-2.06 2.06-.94-2.06-.94-.94-2.06-.94 2.06-2.06.94zm-11 1L8.5 8.5l.94-2.06 2.06-.94-2.06-.94L8.5 2.5l-.94 2.06-2.06.94zm10 10l.94 2.06.94-2.06 2.06-.94-2.06-.94-.94-2.06-.94 2.06-2.06.94z\"/><path d=\"M17.41 7.96l-1.37-1.37c-.4-.4-.92-.59-1.43-.59-.52 0-1.04.2-1.43.59L10.3 9.45l-7.72 7.72c-.78.78-.78 2.05 0 2.83L4 21.41c.39.39.9.59 1.41.59.51 0 1.02-.2 1.41-.59l7.78-7.78 2.81-2.81c.8-.78.8-2.07 0-2.86zM5.41 20L4 18.59l7.72-7.72 1.47 1.35L5.41 20z\"/>\n",
              "  </svg>\n",
              "      </button>\n",
              "      \n",
              "  <style>\n",
              "    .colab-df-container {\n",
              "      display:flex;\n",
              "      flex-wrap:wrap;\n",
              "      gap: 12px;\n",
              "    }\n",
              "\n",
              "    .colab-df-convert {\n",
              "      background-color: #E8F0FE;\n",
              "      border: none;\n",
              "      border-radius: 50%;\n",
              "      cursor: pointer;\n",
              "      display: none;\n",
              "      fill: #1967D2;\n",
              "      height: 32px;\n",
              "      padding: 0 0 0 0;\n",
              "      width: 32px;\n",
              "    }\n",
              "\n",
              "    .colab-df-convert:hover {\n",
              "      background-color: #E2EBFA;\n",
              "      box-shadow: 0px 1px 2px rgba(60, 64, 67, 0.3), 0px 1px 3px 1px rgba(60, 64, 67, 0.15);\n",
              "      fill: #174EA6;\n",
              "    }\n",
              "\n",
              "    [theme=dark] .colab-df-convert {\n",
              "      background-color: #3B4455;\n",
              "      fill: #D2E3FC;\n",
              "    }\n",
              "\n",
              "    [theme=dark] .colab-df-convert:hover {\n",
              "      background-color: #434B5C;\n",
              "      box-shadow: 0px 1px 3px 1px rgba(0, 0, 0, 0.15);\n",
              "      filter: drop-shadow(0px 1px 2px rgba(0, 0, 0, 0.3));\n",
              "      fill: #FFFFFF;\n",
              "    }\n",
              "  </style>\n",
              "\n",
              "      <script>\n",
              "        const buttonEl =\n",
              "          document.querySelector('#df-0ccdf195-5b6f-4b93-aac9-92ec771173b3 button.colab-df-convert');\n",
              "        buttonEl.style.display =\n",
              "          google.colab.kernel.accessAllowed ? 'block' : 'none';\n",
              "\n",
              "        async function convertToInteractive(key) {\n",
              "          const element = document.querySelector('#df-0ccdf195-5b6f-4b93-aac9-92ec771173b3');\n",
              "          const dataTable =\n",
              "            await google.colab.kernel.invokeFunction('convertToInteractive',\n",
              "                                                     [key], {});\n",
              "          if (!dataTable) return;\n",
              "\n",
              "          const docLinkHtml = 'Like what you see? Visit the ' +\n",
              "            '<a target=\"_blank\" href=https://colab.research.google.com/notebooks/data_table.ipynb>data table notebook</a>'\n",
              "            + ' to learn more about interactive tables.';\n",
              "          element.innerHTML = '';\n",
              "          dataTable['output_type'] = 'display_data';\n",
              "          await google.colab.output.renderOutput(dataTable, element);\n",
              "          const docLink = document.createElement('div');\n",
              "          docLink.innerHTML = docLinkHtml;\n",
              "          element.appendChild(docLink);\n",
              "        }\n",
              "      </script>\n",
              "    </div>\n",
              "  </div>\n",
              "  "
            ],
            "text/plain": [
              "             0\n",
              "0   2.1000E-10\n",
              "1   2.0922E-10\n",
              "2   1.9060E-10\n",
              "3   1.6853E-10\n",
              "4   1.5007E-10\n",
              "5   1.2159E-10\n",
              "6   1.0125E-10\n",
              "7   6.7601E-11\n",
              "8   2.5037E-11\n",
              "9   2.3942E-11\n",
              "10  9.5142E-11\n",
              "11  1.7745E-10\n",
              "12  2.5945E-10\n",
              "13  4.1938E-10\n",
              "14  6.0325E-10\n",
              "15  8.5127E-10\n",
              "16  1.1553E-09"
            ]
          },
          "metadata": {},
          "execution_count": 19
        }
      ]
    },
    {
      "cell_type": "code",
      "source": [
        ""
      ],
      "metadata": {
        "id": "2DSZBMPskaKz"
      },
      "execution_count": null,
      "outputs": []
    }
  ]
}